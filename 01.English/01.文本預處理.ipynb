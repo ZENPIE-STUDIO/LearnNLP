{
 "cells": [
  {
   "cell_type": "markdown",
   "id": "c96fc6f5",
   "metadata": {},
   "source": [
    "# 學習目的：試試 NLTK, SPACY，瞭解英文NLP的基礎知識"
   ]
  },
  {
   "cell_type": "markdown",
   "id": "6b901c35",
   "metadata": {},
   "source": [
    "### 讀檔、轉小寫、刪除標點符號"
   ]
  },
  {
   "cell_type": "code",
   "execution_count": 5,
   "id": "74a5a777",
   "metadata": {},
   "outputs": [
    {
     "name": "stdout",
     "output_type": "stream",
     "text": [
      "\n",
      "----< 讀檔、轉小寫、刪除標點符號 >-----\n",
      "\n",
      "soaring over the delhi skyline  at 240 ft  the qutub minar is one of the capitals most iconic and stunning monuments now a court will decide whether temples demolished centuries ago in the complex surrounding the monument should be restored\n",
      "\n",
      "the world heritage site was built as tower of victory  possibly inspired by afghan minarets  by qutbuddin aibak the first sultan of delhi after defeating the hindu rulers in 1192 the redandbuff sandstone monument contains some of the earliest structures of muslim rule in the country it was expanded upwards and renovated by three successors  it is now five storeys tall and 379 steps lead to the top\n",
      "\n",
      "historian william dalrymple noted that the qutub minar tower which looked like a fully extended telescope placed lens down on a plateau in delhis aravalli hills was a boastful and triumphant statement of arrival\n",
      "\n",
      "the fortified complex housing the minaret has a chequered history twentyseven hindu and jain temples located there were demolished and the debris was used to construct delhis first mosque at the site the plinth of one of these temples was retained and expanded to accommodate the mosque which was itself built piecemeal according to a 1926 note on the monument by ja page a senior official of the archaeological survey of india asi\n",
      "\n",
      "members of hindu organisations carry flags and recite hanuman chalisa outside the qutub minar demanding to rename the monument as vishnu stambh on may 10 2022 in new delhi india\n",
      "\n"
     ]
    }
   ],
   "source": [
    "import string\n",
    "import nltk\n",
    "\n",
    "text = open('bcc_news_01-a.txt', encoding='utf-8').read()\n",
    "\n",
    "# 轉小寫\n",
    "lower_case = text.lower()\n",
    "\n",
    "print('\\n----< 讀檔、轉小寫、刪除標點符號 >-----\\n')\n",
    "# Removing punctuations\n",
    "cleaned_text = lower_case.translate(str.maketrans('', '', string.punctuation))\n",
    "print(cleaned_text)"
   ]
  },
  {
   "cell_type": "markdown",
   "id": "86319b8f",
   "metadata": {},
   "source": [
    "### 分詞"
   ]
  },
  {
   "cell_type": "code",
   "execution_count": 6,
   "id": "251b2d7b",
   "metadata": {},
   "outputs": [
    {
     "name": "stdout",
     "output_type": "stream",
     "text": [
      "soaring, over, the, delhi, skyline, at, 240, ft, the, qutub, minar, is, one, of, the, capitals, most, iconic, and, stunning, monuments, now, a, court, will, decide, whether, temples, demolished, centuries, ago, in, the, complex, surrounding, the, monument, should, be, restored, the, world, heritage, site, was, built, as, tower, of, victory, possibly, inspired, by, afghan, minarets, by, qutbuddin, aibak, the, first, sultan, of, delhi, after, defeating, the, hindu, rulers, in, 1192, the, redandbuff, sandstone, monument, contains, some, of, the, earliest, structures, of, muslim, rule, in, the, country, it, was, expanded, upwards, and, renovated, by, three, successors, it, is, now, five, storeys, tall, and, 379, steps, lead, to, the, top, historian, william, dalrymple, noted, that, the, qutub, minar, tower, which, looked, like, a, fully, extended, telescope, placed, lens, down, on, a, plateau, in, delhis, aravalli, hills, was, a, boastful, and, triumphant, statement, of, arrival, the, fortified, complex, housing, the, minaret, has, a, chequered, history, twentyseven, hindu, and, jain, temples, located, there, were, demolished, and, the, debris, was, used, to, construct, delhis, first, mosque, at, the, site, the, plinth, of, one, of, these, temples, was, retained, and, expanded, to, accommodate, the, mosque, which, was, itself, built, piecemeal, according, to, a, 1926, note, on, the, monument, by, ja, page, a, senior, official, of, the, archaeological, survey, of, india, asi, members, of, hindu, organisations, carry, flags, and, recite, hanuman, chalisa, outside, the, qutub, minar, demanding, to, rename, the, monument, as, vishnu, stambh, on, may, 10, 2022, in, new, delhi, india\n"
     ]
    }
   ],
   "source": [
    "print('\\n----< 分詞 (空白) >-----\\n')\n",
    "from nltk.tokenize import WhitespaceTokenizer\n",
    "word_tokens = nltk.word_tokenize(cleaned_text)\n",
    "print(*word_tokens, sep = \", \") "
   ]
  },
  {
   "cell_type": "markdown",
   "id": "62fc7f5b",
   "metadata": {},
   "source": [
    "### 刪除停用詞"
   ]
  },
  {
   "cell_type": "code",
   "execution_count": 3,
   "id": "9d67ca78",
   "metadata": {},
   "outputs": [
    {
     "name": "stdout",
     "output_type": "stream",
     "text": [
      "\n",
      "----< 刪除停用詞 >-----\n",
      "\n",
      "nltk_stopwords.count =  179\n",
      "['soaring', 'delhi', 'skyline', '240', 'ft', 'qutub', 'minar', 'one', 'capitals', 'iconic', 'stunning', 'monuments', 'court', 'decide', 'whether', 'temples', 'demolished', 'centuries', 'ago', 'complex', 'surrounding', 'monument', 'restored', 'world', 'heritage', 'site', 'built', 'tower', 'victory', 'possibly', 'inspired', 'afghan', 'minarets', 'qutbuddin', 'aibak', 'first', 'sultan', 'delhi', 'defeating', 'hindu', 'rulers', '1192', 'redandbuff', 'sandstone', 'monument', 'contains', 'earliest', 'structures', 'muslim', 'rule', 'country', 'expanded', 'upwards', 'renovated', 'three', 'successors', 'five', 'storeys', 'tall', '379', 'steps', 'lead', 'top', 'historian', 'william', 'dalrymple', 'noted', 'qutub', 'minar', 'tower', 'looked', 'like', 'fully', 'extended', 'telescope', 'placed', 'lens', 'plateau', 'delhis', 'aravalli', 'hills', 'boastful', 'triumphant', 'statement', 'arrival', 'fortified', 'complex', 'housing', 'minaret', 'chequered', 'history', 'twentyseven', 'hindu', 'jain', 'temples', 'located', 'demolished', 'debris', 'used', 'construct', 'delhis', 'first', 'mosque', 'site', 'plinth', 'one', 'temples', 'retained', 'expanded', 'accommodate', 'mosque', 'built', 'piecemeal', 'according', '1926', 'note', 'monument', 'ja', 'page', 'senior', 'official', 'archaeological', 'survey', 'india', 'asi', 'members', 'hindu', 'organisations', 'carry', 'flags', 'recite', 'hanuman', 'chalisa', 'outside', 'qutub', 'minar', 'demanding', 'rename', 'monument', 'vishnu', 'stambh', 'may', '10', '2022', 'new', 'delhi', 'india']\n"
     ]
    },
    {
     "name": "stderr",
     "output_type": "stream",
     "text": [
      "[nltk_data] Downloading package stopwords to\n",
      "[nltk_data]     /Users/eddiehua/nltk_data...\n",
      "[nltk_data]   Package stopwords is already up-to-date!\n"
     ]
    }
   ],
   "source": [
    "print('\\n----< 刪除停用詞 >-----\\n')\n",
    "nltk.download('stopwords')\n",
    "nltk_stopwords = nltk.corpus.stopwords.words('english')\n",
    "print('nltk_stopwords.count = ', len(nltk_stopwords))\n",
    "# print('The first five stop words are {}'.format(list(nltk_stopwords)[:5]))\n",
    "filtered_sentence = []\n",
    "for word in word_tokens: \n",
    "    if word not in nltk_stopwords:\n",
    "        filtered_sentence.append(word)\n",
    "print(filtered_sentence)\n"
   ]
  },
  {
   "cell_type": "markdown",
   "metadata": {},
   "source": [
    "### N-gram\n",
    "- 分析文本中 連續單詞 出現的次數\n",
    "- 用來預測關鍵字"
   ]
  },
  {
   "cell_type": "code",
   "execution_count": 7,
   "id": "aa2ea448",
   "metadata": {},
   "outputs": [
    {
     "name": "stdout",
     "output_type": "stream",
     "text": [
      "Top 5 unigrams:\n",
      "[(('monument',), 4), (('delhi',), 3), (('qutub',), 3), (('minar',), 3), (('temples',), 3)]\n",
      "Top 5 bigrams:\n",
      "[(('qutub', 'minar'), 3), (('soaring', 'delhi'), 1), (('delhi', 'skyline'), 1), (('skyline', '240'), 1), (('240', 'ft'), 1)]\n",
      "Top 5 trigrams:\n",
      "[(('soaring', 'delhi', 'skyline'), 1), (('delhi', 'skyline', '240'), 1), (('skyline', '240', 'ft'), 1), (('240', 'ft', 'qutub'), 1), (('ft', 'qutub', 'minar'), 1)]\n"
     ]
    }
   ],
   "source": [
    "from collections import Counter\n",
    "from nltk.util import ngrams\n",
    "# 計算最高頻率的五個 1-gram (先把stopwords去除比較好)\n",
    "news_unigrams = ngrams(filtered_sentence, 1)\n",
    "news_unigrams_freq = Counter(news_unigrams)\n",
    "print(\"Top 5 unigrams:\\n{}\".format(news_unigrams_freq.most_common(5)))\n",
    "\n",
    "# 計算最高頻率的五個 2-grams\n",
    "news_bigrams = ngrams(filtered_sentence, 2)\n",
    "news_bigrams_freq = Counter(news_bigrams)\n",
    "print(\"Top 5 bigrams:\\n{}\".format(news_bigrams_freq.most_common(5)))\n",
    "\n",
    "# 計算最高頻率的五個 3-grams\n",
    "news_trigrams = ngrams(filtered_sentence, 3)\n",
    "news_trigrams_freq = Counter(news_trigrams)\n",
    "print(\"Top 5 trigrams:\\n{}\".format(news_trigrams_freq.most_common(5)))\n"
   ]
  },
  {
   "cell_type": "markdown",
   "id": "177b8377",
   "metadata": {},
   "source": [
    "### 分句"
   ]
  },
  {
   "cell_type": "code",
   "execution_count": 19,
   "id": "0ecf7c88",
   "metadata": {},
   "outputs": [
    {
     "name": "stdout",
     "output_type": "stream",
     "text": [
      "[1] Soaring over the Delhi skyline - at 240 ft - the Qutub Minar is one of the capital's most iconic and stunning monuments.\n",
      "[2] Now a court will decide whether temples demolished centuries ago in the complex surrounding the monument should be restored.\n",
      "[3] The World Heritage site was built as tower of victory - possibly inspired by Afghan minarets - by Qutbuddin Aibak, the first sultan of Delhi, after defeating the Hindu rulers in 1192.\n",
      "[4] The red-and-buff sandstone monument contains some of the earliest structures of Muslim rule in the country.\n",
      "[5] It was expanded upwards and renovated by three successors - it is now five storeys tall and 379 steps lead to the top.\n",
      "[6] Historian William Dalrymple noted that the Qutub Minar tower, which looked like a \"fully extended telescope placed lens down on a plateau in [Delhi's] Aravalli hills\" was a \"boastful and triumphant statement of arrival\".\n",
      "[7] The fortified complex housing the minaret has a chequered history.\n",
      "[8] Twenty-seven Hindu and Jain temples located there were demolished and the debris was used to construct Delhi's first mosque at the site.\n",
      "[9] The plinth of one of these temples was retained and expanded to accommodate the mosque, which was itself \"built piecemeal\", according to a 1926 note on the monument by JA Page, a senior official of the Archaeological Survey of India (ASI).\n",
      "[10] Members of Hindu organisations carry flags and recite Hanuman Chalisa outside the Qutub Minar demanding to rename the monument as 'Vishnu Stambh' on May 10, 2022 in New Delhi, India.\n"
     ]
    }
   ],
   "source": [
    "from nltk.tokenize import sent_tokenize  \n",
    "sent_tokens = sent_tokenize(text)\n",
    "\n",
    "for i in range(len(sent_tokens)):\n",
    "    print('[{}] {}'.format(i+1, sent_tokens[i]))"
   ]
  },
  {
   "cell_type": "markdown",
   "id": "200b391f",
   "metadata": {},
   "source": [
    "### 詞性標註 Part-of-speech tagging\n",
    "- CC（Coordinating Conjunction）：並列連詞\n",
    "- CD（Cardinal Digit）：基數\n",
    "- DT（Determiner）：限定詞\n",
    "- EX（Existential There）：存在句\n",
    "  - Example: “there is” … think of it like “there exists”\n",
    "- FW（Foreign Word）：外來語\n",
    "- IN（Preposition/Subordinating Conjunction）：介詞/從屬連詞\n",
    "- JJ（Adjective）：形容詞\n",
    "- JJR（Adjective, Comparative）：形容詞，比較級\n",
    "- JJS（Adjective, Superlative）：形容詞，最高級\n",
    "- LS（List Marker 1）：\n",
    "- MD（Modal）：模態\n",
    "- NN（Noun, Sigular）：名詞，單數\n",
    "- NNS（Noun Plural）：名詞，複數\n",
    "- NNP（Proper Noun, Singular）：專有名詞，單數\n",
    "- NNPS（Proper Noun, Plural）：專有名詞，複數\n",
    "- PDT（Predeterminer）：預定義器。\n",
    "- POS（Possessive Ending）：所有格結尾，例：parent’s\n",
    "- PRP（Personal Pronoun）：人稱代詞，例：I, he, she\n",
    "- PRP$（Possessive Pronoun）：所有格代詞。 例：my, his, hers\n",
    "- RB（Adverb）：副詞。例：very, silently\n",
    "- RBR（Adverb, Comparative）：副詞、比較。例：better\n",
    "- RBS（Adverb, Superlative）：副詞、最高級。例：best\n",
    "- PR（Particle）：粒子，Ex. give up\n",
    "- TO（to）：就是 go 'to' ...\n",
    "- UH（Interjection）：呃感嘆詞。 Ex：errrrrrrrm\n",
    "- VB（Verb, Base Form）：動詞，基本形式。Ex. take\n",
    "- VBD（Verb, Past Tense）：動詞，過去式。Ex. took\n",
    "- VBG（Verb, Gerund/Present Participle）：動詞，動名詞/現在分詞。Ex. taking\n",
    "- VBN（Verb, Past Participle）：動詞，過去分詞。Ex. taken\n",
    "- VBP（Verb,non-3rd person singular present）：動詞，非第三人稱單數\n",
    "- VBZ（Verb, 3rd person singular present）：動詞，第三人稱單數\n",
    "- WDT（Wh-determiner）： 限定詞\n",
    "  - 關係限定詞：whose, which\n",
    "  - 疑問限定詞：what, which, whose\n",
    "- WP（Wh-pronoun）：代詞, who whose which\n",
    "- WP$（Possessive wh-pronoun）：所有格代詞\n",
    "- WRB（Wh-adverb）：疑問代詞   how where when"
   ]
  },
  {
   "cell_type": "code",
   "execution_count": 15,
   "id": "bb25c729",
   "metadata": {},
   "outputs": [
    {
     "name": "stdout",
     "output_type": "stream",
     "text": [
      "('soaring', 'VBG'), ('delhi', 'JJ'), ('skyline', 'NN'), ('240', 'CD'), ('ft', 'NN'), ('qutub', 'NN'), ('minar', 'VBP'), ('one', 'CD'), ('capitals', 'NNS'), ('iconic', 'JJ'), ('stunning', 'JJ'), ('monuments', 'NNS'), ('court', 'NN'), ('decide', 'VBP'), ('whether', 'IN'), ('temples', 'NNS'), ('demolished', 'VBN'), ('centuries', 'NNS'), ('ago', 'IN'), ('complex', 'JJ'), ('surrounding', 'VBG'), ('monument', 'NN'), ('restored', 'VBD'), ('world', 'NN'), ('heritage', 'NN'), ('site', 'NN'), ('built', 'VBD'), ('tower', 'JJR'), ('victory', 'NN'), ('possibly', 'RB'), ('inspired', 'VBD'), ('afghan', 'JJ'), ('minarets', 'NNS'), ('qutbuddin', 'VBP'), ('aibak', 'IN'), ('first', 'JJ'), ('sultan', 'JJ'), ('delhi', 'NN'), ('defeating', 'VBG'), ('hindu', 'NN'), ('rulers', 'NNS'), ('1192', 'CD'), ('redandbuff', 'NN'), ('sandstone', 'NN'), ('monument', 'NN'), ('contains', 'VBZ'), ('earliest', 'JJS'), ('structures', 'NNS'), ('muslim', 'JJ'), ('rule', 'JJ'), ('country', 'NN'), ('expanded', 'VBD'), ('upwards', 'NNS'), ('renovated', 'VBD'), ('three', 'CD'), ('successors', 'NNS'), ('five', 'CD'), ('storeys', 'NNS'), ('tall', 'JJ'), ('379', 'CD'), ('steps', 'NNS'), ('lead', 'JJ'), ('top', 'JJ'), ('historian', 'JJ'), ('william', 'NN'), ('dalrymple', 'NN'), ('noted', 'VBD'), ('qutub', 'JJ'), ('minar', 'NN'), ('tower', 'NN'), ('looked', 'VBD'), ('like', 'IN'), ('fully', 'RB'), ('extended', 'VBN'), ('telescope', 'NN'), ('placed', 'VBN'), ('lens', 'VBZ'), ('plateau', 'NN'), ('delhis', 'NN'), ('aravalli', 'NN'), ('hills', 'NNS'), ('boastful', 'JJ'), ('triumphant', 'JJ'), ('statement', 'NN'), ('arrival', 'NN'), ('fortified', 'VBD'), ('complex', 'JJ'), ('housing', 'NN'), ('minaret', 'NN'), ('chequered', 'VBD'), ('history', 'NN'), ('twentyseven', 'RB'), ('hindu', 'VBD'), ('jain', 'NN'), ('temples', 'NNS'), ('located', 'VBN'), ('demolished', 'JJ'), ('debris', 'NN'), ('used', 'VBN'), ('construct', 'NN'), ('delhis', 'NN'), ('first', 'RB'), ('mosque', 'JJ'), ('site', 'NN'), ('plinth', 'JJ'), ('one', 'CD'), ('temples', 'NNS'), ('retained', 'VBD'), ('expanded', 'JJ'), ('accommodate', 'NN'), ('mosque', 'NN'), ('built', 'VBN'), ('piecemeal', 'IN'), ('according', 'VBG'), ('1926', 'CD'), ('note', 'NN'), ('monument', 'NN'), ('ja', 'NN'), ('page', 'NN'), ('senior', 'JJ'), ('official', 'JJ'), ('archaeological', 'JJ'), ('survey', 'NN'), ('india', 'VBZ'), ('asi', 'JJ'), ('members', 'NNS'), ('hindu', 'VBP'), ('organisations', 'NNS'), ('carry', 'VBP'), ('flags', 'NNS'), ('recite', 'JJ'), ('hanuman', 'JJ'), ('chalisa', 'NN'), ('outside', 'IN'), ('qutub', 'JJ'), ('minar', 'NN'), ('demanding', 'VBG'), ('rename', 'JJ'), ('monument', 'JJ'), ('vishnu', 'NN'), ('stambh', 'NN'), ('may', 'MD'), ('10', 'CD'), ('2022', 'CD'), ('new', 'JJ'), ('delhi', 'NN'), ('india', 'NN')\n"
     ]
    }
   ],
   "source": [
    "from nltk import RegexpParser\n",
    "pos_tagged_sent = nltk.pos_tag(filtered_sentence)   # 需要 averaged_perceptron_tagger\n",
    "print(*pos_tagged_sent, sep = \", \") "
   ]
  },
  {
   "cell_type": "markdown",
   "id": "85f4ef3c",
   "metadata": {},
   "source": [
    "### 名詞短語分塊 (Noun Phrase Chunking)"
   ]
  },
  {
   "cell_type": "code",
   "execution_count": 18,
   "id": "de312105",
   "metadata": {},
   "outputs": [
    {
     "name": "stdout",
     "output_type": "stream",
     "text": [
      "(S\n",
      "  Soaring/VBG\n",
      "  over/IN\n",
      "  (NP the/DT Delhi/NNP)\n",
      "  (NP skyline/NN)\n",
      "  -/:\n",
      "  at/IN\n",
      "  240/CD\n",
      "  ft/JJ\n",
      "  -/:\n",
      "  (NP the/DT Qutub/NNP)\n",
      "  (NP Minar/NNP)\n",
      "  is/VBZ\n",
      "  one/CD\n",
      "  of/IN\n",
      "  (NP the/DT capital/NN)\n",
      "  's/POS\n",
      "  most/RBS\n",
      "  iconic/JJ\n",
      "  and/CC\n",
      "  (NP stunning/JJ monuments/NNS)\n",
      "  ./.)\n"
     ]
    }
   ],
   "source": [
    "tokenised_sent = nltk.word_tokenize(sent_tokens[0])\n",
    "pos_tagged_sent = nltk.pos_tag(tokenised_sent)\n",
    "# specifying the formal grammar of an noun phrase: \"grammar_name: {RegEx}\"\n",
    "np_chunk_grammar = \"NP: {<DT>?<JJ>*<NN.?>}\"\n",
    "np_chunk_parser = RegexpParser(np_chunk_grammar)\n",
    "# chunk parsing a sentence\n",
    "np_chunked_sent = np_chunk_parser.parse(pos_tagged_sent)\n",
    "print(np_chunked_sent)\n",
    "# visualising parsing result\n",
    "#np_chunked_sent.draw()"
   ]
  },
  {
   "cell_type": "markdown",
   "id": "3b2c6f85",
   "metadata": {},
   "source": [
    "### 找出高頻率單字"
   ]
  },
  {
   "cell_type": "code",
   "execution_count": 21,
   "id": "81e58606",
   "metadata": {},
   "outputs": [
    {
     "name": "stdout",
     "output_type": "stream",
     "text": [
      "[('monument', 4), ('delhi', 3), ('qutub', 3), ('minar', 3), ('temples', 3), ('hindu', 3), ('one', 2), ('demolished', 2), ('complex', 2), ('site', 2)]\n"
     ]
    }
   ],
   "source": [
    "from nltk.probability import FreqDist\n",
    "fdist = FreqDist(filtered_sentence)\n",
    "# 列出前10名\n",
    "fdist1 = fdist.most_common(10)\n",
    "print(fdist1)"
   ]
  },
  {
   "cell_type": "markdown",
   "id": "28dc02f4",
   "metadata": {},
   "source": [
    "### 語幹提取 / 去除字尾 (Stemming)"
   ]
  },
  {
   "cell_type": "code",
   "execution_count": 26,
   "id": "7c215cbf",
   "metadata": {},
   "outputs": [
    {
     "name": "stdout",
     "output_type": "stream",
     "text": [
      "soaring -> soar\n",
      "skyline -> skylin\n",
      "capitals -> capit\n",
      "iconic -> icon\n",
      "stunning -> stun\n",
      "monuments -> monument\n",
      "decide -> decid\n",
      "temples -> templ\n",
      "demolished -> demolish\n",
      "centuries -> centuri\n",
      "surrounding -> surround\n",
      "restored -> restor\n",
      "heritage -> heritag\n",
      "victory -> victori\n",
      "possibly -> possibl\n",
      "inspired -> inspir\n",
      "minarets -> minaret\n",
      "defeating -> defeat\n",
      "rulers -> ruler\n",
      "sandstone -> sandston\n",
      "contains -> contain\n",
      "structures -> structur\n",
      "country -> countri\n",
      "expanded -> expand\n",
      "upwards -> upward\n",
      "renovated -> renov\n",
      "successors -> successor\n",
      "storeys -> storey\n",
      "steps -> step\n",
      "dalrymple -> dalrympl\n",
      "noted -> note\n",
      "looked -> look\n",
      "fully -> fulli\n",
      "extended -> extend\n",
      "telescope -> telescop\n",
      "placed -> place\n",
      "lens -> len\n",
      "delhis -> delhi\n",
      "aravalli -> arav\n",
      "hills -> hill\n",
      "boastful -> boast\n",
      "arrival -> arriv\n",
      "fortified -> fortifi\n",
      "housing -> hous\n",
      "chequered -> chequer\n",
      "history -> histori\n",
      "temples -> templ\n",
      "located -> locat\n",
      "demolished -> demolish\n",
      "debris -> debri\n",
      "used -> use\n",
      "delhis -> delhi\n",
      "mosque -> mosqu\n",
      "temples -> templ\n",
      "retained -> retain\n",
      "expanded -> expand\n",
      "accommodate -> accommod\n",
      "mosque -> mosqu\n",
      "piecemeal -> piecem\n",
      "according -> accord\n",
      "official -> offici\n",
      "archaeological -> archaeolog\n",
      "members -> member\n",
      "organisations -> organis\n",
      "carry -> carri\n",
      "flags -> flag\n",
      "recite -> recit\n",
      "outside -> outsid\n",
      "demanding -> demand\n",
      "rename -> renam\n"
     ]
    }
   ],
   "source": [
    "from nltk.stem.porter import PorterStemmer\n",
    "ps = PorterStemmer()\n",
    "\n",
    "for word in filtered_sentence:\n",
    "    word_stem = ps.stem(word)\n",
    "    if (word != word_stem):\n",
    "        print(word, '->', ps.stem(word))\n"
   ]
  },
  {
   "cell_type": "markdown",
   "id": "b6f66448",
   "metadata": {},
   "source": [
    "### NER (Named Entity Recognition)"
   ]
  },
  {
   "cell_type": "code",
   "execution_count": 29,
   "id": "585517af",
   "metadata": {},
   "outputs": [
    {
     "name": "stdout",
     "output_type": "stream",
     "text": [
      "Delhi : 國家、城市、州\n",
      "240 : 數量詞\n",
      "Afghan : 國家、宗教、政治團體\n",
      "Qutbuddin Aibak : 組織公司、機構\n",
      "first : 序數詞\n",
      "Delhi : 國家、城市、州\n",
      "Hindu : 國家、宗教、政治團體\n",
      "1192 : 日期\n",
      "Muslim : 國家、宗教、政治團體\n",
      "three : 數量詞\n",
      "five : 數量詞\n",
      "379 : 數量詞\n",
      "William Dalrymple : 人物\n",
      "Qutub Minar : 人物\n",
      "Aravalli : 人物\n",
      "Twenty-seven : 數量詞\n",
      "Hindu : 國家、宗教、政治團體\n",
      "Delhi : 國家、城市、州\n",
      "1926 : 日期\n",
      "JA Page : 人物\n",
      "the Archaeological Survey : 組織公司、機構\n",
      "India : 國家、城市、州\n",
      "Hindu : 國家、宗教、政治團體\n",
      "Hanuman Chalisa : 人物\n",
      "Vishnu Stambh' : 人物\n",
      "May 10, 2022 : 日期\n",
      "New Delhi : 國家、城市、州\n",
      "India : 國家、城市、州\n"
     ]
    }
   ],
   "source": [
    "import spacy\n",
    "\n",
    "ner_def = {\"PERSON\": \"人物\",\n",
    "           \"NORP\": \"國家、宗教、政治團體\",\n",
    "           \"FAC\": \"建築、機場、高速公路、橋樑\",\n",
    "           \"ORG\": \"組織公司、機構\",\n",
    "           \"GPE\": \"國家、城市、州\",\n",
    "           \"LOC\": \"山脈、水體\",\n",
    "           \"DATE\": \"日期\",\n",
    "           \"TIME\": \"小於1天的時間\",\n",
    "           \"EVENT\": \"颶風、戰爭、體育賽事等\",\n",
    "           \"LAW\": \"法律文書\",\n",
    "           \"LANGUAGE\": \"語言\",\n",
    "           \"PERCENT\": \"百分比\",\n",
    "           \"MONEY\": \"貨幣價值\",\n",
    "           \"QUANTITY\": \"度量單位\",\n",
    "           \"CARDINAL\": \"數量詞\",\n",
    "           \"ORDINAL\" : \"序數詞\"\n",
    "          }\n",
    "\n",
    "nlp = spacy.load(\"en_core_web_sm\")\n",
    "doc = nlp(text)\n",
    "\n",
    "for entity in doc.ents:\n",
    "    # 取不到中文說明就顯示原本的文字\n",
    "    chiName = ner_def.get(entity.label_, entity.label_)\n",
    "    print(entity.text, \":\", chiName)\n"
   ]
  },
  {
   "cell_type": "markdown",
   "id": "0ca54bcb",
   "metadata": {},
   "source": []
  },
  {
   "cell_type": "code",
   "execution_count": 31,
   "id": "b52464af",
   "metadata": {},
   "outputs": [
    {
     "data": {
      "text/html": [
       "<span class=\"tex2jax_ignore\"><div class=\"entities\" style=\"line-height: 2.5; direction: ltr\">Soaring over the \n",
       "<mark class=\"entity\" style=\"background: #feca74; padding: 0.45em 0.6em; margin: 0 0.25em; line-height: 1; border-radius: 0.35em;\">\n",
       "    Delhi\n",
       "    <span style=\"font-size: 0.8em; font-weight: bold; line-height: 1; border-radius: 0.35em; vertical-align: middle; margin-left: 0.5rem\">GPE</span>\n",
       "</mark>\n",
       " skyline - at \n",
       "<mark class=\"entity\" style=\"background: #e4e7d2; padding: 0.45em 0.6em; margin: 0 0.25em; line-height: 1; border-radius: 0.35em;\">\n",
       "    240\n",
       "    <span style=\"font-size: 0.8em; font-weight: bold; line-height: 1; border-radius: 0.35em; vertical-align: middle; margin-left: 0.5rem\">CARDINAL</span>\n",
       "</mark>\n",
       " ft - the Qutub Minar is one of the capital's most iconic and stunning monuments. Now a court will decide whether temples demolished centuries ago in the complex surrounding the monument should be restored.</br></br>The World Heritage site was built as tower of victory - possibly inspired by \n",
       "<mark class=\"entity\" style=\"background: #c887fb; padding: 0.45em 0.6em; margin: 0 0.25em; line-height: 1; border-radius: 0.35em;\">\n",
       "    Afghan\n",
       "    <span style=\"font-size: 0.8em; font-weight: bold; line-height: 1; border-radius: 0.35em; vertical-align: middle; margin-left: 0.5rem\">NORP</span>\n",
       "</mark>\n",
       " minarets - by \n",
       "<mark class=\"entity\" style=\"background: #7aecec; padding: 0.45em 0.6em; margin: 0 0.25em; line-height: 1; border-radius: 0.35em;\">\n",
       "    Qutbuddin Aibak\n",
       "    <span style=\"font-size: 0.8em; font-weight: bold; line-height: 1; border-radius: 0.35em; vertical-align: middle; margin-left: 0.5rem\">ORG</span>\n",
       "</mark>\n",
       ", the \n",
       "<mark class=\"entity\" style=\"background: #e4e7d2; padding: 0.45em 0.6em; margin: 0 0.25em; line-height: 1; border-radius: 0.35em;\">\n",
       "    first\n",
       "    <span style=\"font-size: 0.8em; font-weight: bold; line-height: 1; border-radius: 0.35em; vertical-align: middle; margin-left: 0.5rem\">ORDINAL</span>\n",
       "</mark>\n",
       " sultan of \n",
       "<mark class=\"entity\" style=\"background: #feca74; padding: 0.45em 0.6em; margin: 0 0.25em; line-height: 1; border-radius: 0.35em;\">\n",
       "    Delhi\n",
       "    <span style=\"font-size: 0.8em; font-weight: bold; line-height: 1; border-radius: 0.35em; vertical-align: middle; margin-left: 0.5rem\">GPE</span>\n",
       "</mark>\n",
       ", after defeating the \n",
       "<mark class=\"entity\" style=\"background: #c887fb; padding: 0.45em 0.6em; margin: 0 0.25em; line-height: 1; border-radius: 0.35em;\">\n",
       "    Hindu\n",
       "    <span style=\"font-size: 0.8em; font-weight: bold; line-height: 1; border-radius: 0.35em; vertical-align: middle; margin-left: 0.5rem\">NORP</span>\n",
       "</mark>\n",
       " rulers in \n",
       "<mark class=\"entity\" style=\"background: #bfe1d9; padding: 0.45em 0.6em; margin: 0 0.25em; line-height: 1; border-radius: 0.35em;\">\n",
       "    1192\n",
       "    <span style=\"font-size: 0.8em; font-weight: bold; line-height: 1; border-radius: 0.35em; vertical-align: middle; margin-left: 0.5rem\">DATE</span>\n",
       "</mark>\n",
       ". The red-and-buff sandstone monument contains some of the earliest structures of \n",
       "<mark class=\"entity\" style=\"background: #c887fb; padding: 0.45em 0.6em; margin: 0 0.25em; line-height: 1; border-radius: 0.35em;\">\n",
       "    Muslim\n",
       "    <span style=\"font-size: 0.8em; font-weight: bold; line-height: 1; border-radius: 0.35em; vertical-align: middle; margin-left: 0.5rem\">NORP</span>\n",
       "</mark>\n",
       " rule in the country. It was expanded upwards and renovated by \n",
       "<mark class=\"entity\" style=\"background: #e4e7d2; padding: 0.45em 0.6em; margin: 0 0.25em; line-height: 1; border-radius: 0.35em;\">\n",
       "    three\n",
       "    <span style=\"font-size: 0.8em; font-weight: bold; line-height: 1; border-radius: 0.35em; vertical-align: middle; margin-left: 0.5rem\">CARDINAL</span>\n",
       "</mark>\n",
       " successors - it is now \n",
       "<mark class=\"entity\" style=\"background: #e4e7d2; padding: 0.45em 0.6em; margin: 0 0.25em; line-height: 1; border-radius: 0.35em;\">\n",
       "    five\n",
       "    <span style=\"font-size: 0.8em; font-weight: bold; line-height: 1; border-radius: 0.35em; vertical-align: middle; margin-left: 0.5rem\">CARDINAL</span>\n",
       "</mark>\n",
       " storeys tall and \n",
       "<mark class=\"entity\" style=\"background: #e4e7d2; padding: 0.45em 0.6em; margin: 0 0.25em; line-height: 1; border-radius: 0.35em;\">\n",
       "    379\n",
       "    <span style=\"font-size: 0.8em; font-weight: bold; line-height: 1; border-radius: 0.35em; vertical-align: middle; margin-left: 0.5rem\">CARDINAL</span>\n",
       "</mark>\n",
       " steps lead to the top.</br></br>Historian \n",
       "<mark class=\"entity\" style=\"background: #aa9cfc; padding: 0.45em 0.6em; margin: 0 0.25em; line-height: 1; border-radius: 0.35em;\">\n",
       "    William Dalrymple\n",
       "    <span style=\"font-size: 0.8em; font-weight: bold; line-height: 1; border-radius: 0.35em; vertical-align: middle; margin-left: 0.5rem\">PERSON</span>\n",
       "</mark>\n",
       " noted that the \n",
       "<mark class=\"entity\" style=\"background: #aa9cfc; padding: 0.45em 0.6em; margin: 0 0.25em; line-height: 1; border-radius: 0.35em;\">\n",
       "    Qutub Minar\n",
       "    <span style=\"font-size: 0.8em; font-weight: bold; line-height: 1; border-radius: 0.35em; vertical-align: middle; margin-left: 0.5rem\">PERSON</span>\n",
       "</mark>\n",
       " tower, which looked like a &quot;fully extended telescope placed lens down on a plateau in [Delhi's] \n",
       "<mark class=\"entity\" style=\"background: #aa9cfc; padding: 0.45em 0.6em; margin: 0 0.25em; line-height: 1; border-radius: 0.35em;\">\n",
       "    Aravalli\n",
       "    <span style=\"font-size: 0.8em; font-weight: bold; line-height: 1; border-radius: 0.35em; vertical-align: middle; margin-left: 0.5rem\">PERSON</span>\n",
       "</mark>\n",
       " hills&quot; was a &quot;boastful and triumphant statement of arrival&quot;.</br></br>The fortified complex housing the minaret has a chequered history. \n",
       "<mark class=\"entity\" style=\"background: #e4e7d2; padding: 0.45em 0.6em; margin: 0 0.25em; line-height: 1; border-radius: 0.35em;\">\n",
       "    Twenty-seven\n",
       "    <span style=\"font-size: 0.8em; font-weight: bold; line-height: 1; border-radius: 0.35em; vertical-align: middle; margin-left: 0.5rem\">CARDINAL</span>\n",
       "</mark>\n",
       " \n",
       "<mark class=\"entity\" style=\"background: #c887fb; padding: 0.45em 0.6em; margin: 0 0.25em; line-height: 1; border-radius: 0.35em;\">\n",
       "    Hindu\n",
       "    <span style=\"font-size: 0.8em; font-weight: bold; line-height: 1; border-radius: 0.35em; vertical-align: middle; margin-left: 0.5rem\">NORP</span>\n",
       "</mark>\n",
       " and Jain temples located there were demolished and the debris was used to construct \n",
       "<mark class=\"entity\" style=\"background: #feca74; padding: 0.45em 0.6em; margin: 0 0.25em; line-height: 1; border-radius: 0.35em;\">\n",
       "    Delhi\n",
       "    <span style=\"font-size: 0.8em; font-weight: bold; line-height: 1; border-radius: 0.35em; vertical-align: middle; margin-left: 0.5rem\">GPE</span>\n",
       "</mark>\n",
       "'s first mosque at the site. The plinth of one of these temples was retained and expanded to accommodate the mosque, which was itself &quot;built piecemeal&quot;, according to a \n",
       "<mark class=\"entity\" style=\"background: #bfe1d9; padding: 0.45em 0.6em; margin: 0 0.25em; line-height: 1; border-radius: 0.35em;\">\n",
       "    1926\n",
       "    <span style=\"font-size: 0.8em; font-weight: bold; line-height: 1; border-radius: 0.35em; vertical-align: middle; margin-left: 0.5rem\">DATE</span>\n",
       "</mark>\n",
       " note on the monument by \n",
       "<mark class=\"entity\" style=\"background: #aa9cfc; padding: 0.45em 0.6em; margin: 0 0.25em; line-height: 1; border-radius: 0.35em;\">\n",
       "    JA Page\n",
       "    <span style=\"font-size: 0.8em; font-weight: bold; line-height: 1; border-radius: 0.35em; vertical-align: middle; margin-left: 0.5rem\">PERSON</span>\n",
       "</mark>\n",
       ", a senior official of \n",
       "<mark class=\"entity\" style=\"background: #7aecec; padding: 0.45em 0.6em; margin: 0 0.25em; line-height: 1; border-radius: 0.35em;\">\n",
       "    the Archaeological Survey\n",
       "    <span style=\"font-size: 0.8em; font-weight: bold; line-height: 1; border-radius: 0.35em; vertical-align: middle; margin-left: 0.5rem\">ORG</span>\n",
       "</mark>\n",
       " of \n",
       "<mark class=\"entity\" style=\"background: #feca74; padding: 0.45em 0.6em; margin: 0 0.25em; line-height: 1; border-radius: 0.35em;\">\n",
       "    India\n",
       "    <span style=\"font-size: 0.8em; font-weight: bold; line-height: 1; border-radius: 0.35em; vertical-align: middle; margin-left: 0.5rem\">GPE</span>\n",
       "</mark>\n",
       " (ASI).</br></br>Members of \n",
       "<mark class=\"entity\" style=\"background: #c887fb; padding: 0.45em 0.6em; margin: 0 0.25em; line-height: 1; border-radius: 0.35em;\">\n",
       "    Hindu\n",
       "    <span style=\"font-size: 0.8em; font-weight: bold; line-height: 1; border-radius: 0.35em; vertical-align: middle; margin-left: 0.5rem\">NORP</span>\n",
       "</mark>\n",
       " organisations carry flags and recite \n",
       "<mark class=\"entity\" style=\"background: #aa9cfc; padding: 0.45em 0.6em; margin: 0 0.25em; line-height: 1; border-radius: 0.35em;\">\n",
       "    Hanuman Chalisa\n",
       "    <span style=\"font-size: 0.8em; font-weight: bold; line-height: 1; border-radius: 0.35em; vertical-align: middle; margin-left: 0.5rem\">PERSON</span>\n",
       "</mark>\n",
       " outside the Qutub Minar demanding to rename the monument as '\n",
       "<mark class=\"entity\" style=\"background: #aa9cfc; padding: 0.45em 0.6em; margin: 0 0.25em; line-height: 1; border-radius: 0.35em;\">\n",
       "    Vishnu Stambh'\n",
       "    <span style=\"font-size: 0.8em; font-weight: bold; line-height: 1; border-radius: 0.35em; vertical-align: middle; margin-left: 0.5rem\">PERSON</span>\n",
       "</mark>\n",
       " on \n",
       "<mark class=\"entity\" style=\"background: #bfe1d9; padding: 0.45em 0.6em; margin: 0 0.25em; line-height: 1; border-radius: 0.35em;\">\n",
       "    May 10, 2022\n",
       "    <span style=\"font-size: 0.8em; font-weight: bold; line-height: 1; border-radius: 0.35em; vertical-align: middle; margin-left: 0.5rem\">DATE</span>\n",
       "</mark>\n",
       " in \n",
       "<mark class=\"entity\" style=\"background: #feca74; padding: 0.45em 0.6em; margin: 0 0.25em; line-height: 1; border-radius: 0.35em;\">\n",
       "    New Delhi\n",
       "    <span style=\"font-size: 0.8em; font-weight: bold; line-height: 1; border-radius: 0.35em; vertical-align: middle; margin-left: 0.5rem\">GPE</span>\n",
       "</mark>\n",
       ", \n",
       "<mark class=\"entity\" style=\"background: #feca74; padding: 0.45em 0.6em; margin: 0 0.25em; line-height: 1; border-radius: 0.35em;\">\n",
       "    India\n",
       "    <span style=\"font-size: 0.8em; font-weight: bold; line-height: 1; border-radius: 0.35em; vertical-align: middle; margin-left: 0.5rem\">GPE</span>\n",
       "</mark>\n",
       ".</br></div></span>"
      ],
      "text/plain": [
       "<IPython.core.display.HTML object>"
      ]
     },
     "metadata": {},
     "output_type": "display_data"
    }
   ],
   "source": [
    "from spacy import displacy\n",
    "\n",
    "# displacy.render(doc, style=\"dep\")\n",
    "displacy.render(doc, style=\"ent\")"
   ]
  },
  {
   "cell_type": "code",
   "execution_count": null,
   "id": "f1bd4ca8",
   "metadata": {},
   "outputs": [],
   "source": []
  }
 ],
 "metadata": {
  "kernelspec": {
   "display_name": "Python 3.10.5 ('my_nlp')",
   "language": "python",
   "name": "python3"
  },
  "language_info": {
   "codemirror_mode": {
    "name": "ipython",
    "version": 3
   },
   "file_extension": ".py",
   "mimetype": "text/x-python",
   "name": "python",
   "nbconvert_exporter": "python",
   "pygments_lexer": "ipython3",
   "version": "3.10.5"
  },
  "vscode": {
   "interpreter": {
    "hash": "d994cf79d46f09850c0ab3ba2bb53b84b3de92ab4ebaeb1f5eb650d2bf8d6161"
   }
  }
 },
 "nbformat": 4,
 "nbformat_minor": 5
}
