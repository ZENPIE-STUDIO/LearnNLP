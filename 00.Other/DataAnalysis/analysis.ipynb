{
 "cells": [
  {
   "cell_type": "markdown",
   "metadata": {},
   "source": [
    "# 用 pandas 分析CSV資料"
   ]
  },
  {
   "cell_type": "code",
   "execution_count": 1,
   "metadata": {},
   "outputs": [],
   "source": [
    "import numpy as np\n",
    "import pandas as pd\n",
    "\n",
    "# 原先完整的資料\n",
    "# df = pd.read_excel(\"online-retail.xlsx\")\n",
    "\n",
    "# 去除退貨資料\n",
    "df = pd.read_csv('data/afterclean-without-refund.csv')\n"
   ]
  },
  {
   "cell_type": "markdown",
   "metadata": {},
   "source": [
    "### (耗時，先拿掉) 顯示 Profile Report\n"
   ]
  },
  {
   "cell_type": "code",
   "execution_count": 2,
   "metadata": {},
   "outputs": [],
   "source": [
    "# from pandas_profiling import ProfileReport\n",
    "# profile = ProfileReport(df, title=\"Pandas Profiling Report\")\n",
    "# profile.to_widgets()\n",
    "\n",
    "## profile.to_notebook_iframe()"
   ]
  },
  {
   "cell_type": "markdown",
   "metadata": {},
   "source": [
    "### 做一些準備手續\n",
    "- 將InvoiceDate 的 dtype轉成 datetime\n",
    "- 排除 StockCode 字串長度小於5的資料。(例如)"
   ]
  },
  {
   "cell_type": "code",
   "execution_count": 3,
   "metadata": {},
   "outputs": [
    {
     "name": "stdout",
     "output_type": "stream",
     "text": [
      "<class 'pandas.core.frame.DataFrame'>\n",
      "RangeIndex: 32960 entries, 0 to 32959\n",
      "Data columns (total 10 columns):\n",
      " #   Column       Non-Null Count  Dtype         \n",
      "---  ------       --------------  -----         \n",
      " 0   Unnamed: 0   32960 non-null  int64         \n",
      " 1   InvoiceNo    32960 non-null  int64         \n",
      " 2   StockCode    32960 non-null  object        \n",
      " 3   Description  32960 non-null  object        \n",
      " 4   Quantity     32960 non-null  int64         \n",
      " 5   InvoiceDate  32960 non-null  datetime64[ns]\n",
      " 6   UnitPrice    32960 non-null  float64       \n",
      " 7   CustomerID   32960 non-null  int64         \n",
      " 8   Country      32960 non-null  object        \n",
      " 9   TotalPrice   32960 non-null  float64       \n",
      "dtypes: datetime64[ns](1), float64(2), int64(4), object(3)\n",
      "memory usage: 2.5+ MB\n"
     ]
    }
   ],
   "source": [
    "# 原本 InvoiceDate 的 dtype 是 object，轉成 datetime\n",
    "df[\"InvoiceDate\"] = pd.to_datetime(df[\"InvoiceDate\"])\n",
    "\n",
    "# Show All Columns\n",
    "df.info()\n",
    "\n",
    "# 一些 filter 條件\n",
    "# StockCode : 排除字串長度小於5，例如：M,D,POST...\n",
    "# PS. 初期是直接讀取原資料，所以會用到\n",
    "stockcode_mask = df['StockCode'].str.len() >= 5"
   ]
  },
  {
   "cell_type": "markdown",
   "metadata": {},
   "source": [
    "### 區分國家 列出 銷售總金額(不含運費) 的 中位數、最小值、最大值"
   ]
  },
  {
   "cell_type": "code",
   "execution_count": 4,
   "metadata": {},
   "outputs": [
    {
     "data": {
      "text/html": [
       "<div>\n",
       "<style scoped>\n",
       "    .dataframe tbody tr th:only-of-type {\n",
       "        vertical-align: middle;\n",
       "    }\n",
       "\n",
       "    .dataframe tbody tr th {\n",
       "        vertical-align: top;\n",
       "    }\n",
       "\n",
       "    .dataframe thead tr th {\n",
       "        text-align: left;\n",
       "    }\n",
       "\n",
       "    .dataframe thead tr:last-of-type th {\n",
       "        text-align: right;\n",
       "    }\n",
       "</style>\n",
       "<table border=\"1\" class=\"dataframe\">\n",
       "  <thead>\n",
       "    <tr>\n",
       "      <th></th>\n",
       "      <th colspan=\"4\" halign=\"left\">TotalPrice</th>\n",
       "    </tr>\n",
       "    <tr>\n",
       "      <th></th>\n",
       "      <th>median</th>\n",
       "      <th>min</th>\n",
       "      <th>max</th>\n",
       "      <th>sum</th>\n",
       "    </tr>\n",
       "    <tr>\n",
       "      <th>Country</th>\n",
       "      <th></th>\n",
       "      <th></th>\n",
       "      <th></th>\n",
       "      <th></th>\n",
       "    </tr>\n",
       "  </thead>\n",
       "  <tbody>\n",
       "    <tr>\n",
       "      <th>Australia</th>\n",
       "      <td>30.000</td>\n",
       "      <td>2.08</td>\n",
       "      <td>270.00</td>\n",
       "      <td>4082.84</td>\n",
       "    </tr>\n",
       "    <tr>\n",
       "      <th>Austria</th>\n",
       "      <td>19.500</td>\n",
       "      <td>15.00</td>\n",
       "      <td>142.80</td>\n",
       "      <td>865.95</td>\n",
       "    </tr>\n",
       "    <tr>\n",
       "      <th>Bahrain</th>\n",
       "      <td>25.500</td>\n",
       "      <td>19.80</td>\n",
       "      <td>25.50</td>\n",
       "      <td>96.30</td>\n",
       "    </tr>\n",
       "    <tr>\n",
       "      <th>Belgium</th>\n",
       "      <td>15.000</td>\n",
       "      <td>2.50</td>\n",
       "      <td>87.04</td>\n",
       "      <td>2015.36</td>\n",
       "    </tr>\n",
       "    <tr>\n",
       "      <th>Brazil</th>\n",
       "      <td>17.850</td>\n",
       "      <td>17.85</td>\n",
       "      <td>20.40</td>\n",
       "      <td>56.10</td>\n",
       "    </tr>\n",
       "    <tr>\n",
       "      <th>Canada</th>\n",
       "      <td>17.100</td>\n",
       "      <td>2.50</td>\n",
       "      <td>30.00</td>\n",
       "      <td>385.78</td>\n",
       "    </tr>\n",
       "    <tr>\n",
       "      <th>Channel Islands</th>\n",
       "      <td>20.400</td>\n",
       "      <td>10.20</td>\n",
       "      <td>358.00</td>\n",
       "      <td>1720.75</td>\n",
       "    </tr>\n",
       "    <tr>\n",
       "      <th>Cyprus</th>\n",
       "      <td>18.725</td>\n",
       "      <td>1.26</td>\n",
       "      <td>196.35</td>\n",
       "      <td>1427.71</td>\n",
       "    </tr>\n",
       "    <tr>\n",
       "      <th>Czech Republic</th>\n",
       "      <td>39.600</td>\n",
       "      <td>35.76</td>\n",
       "      <td>46.80</td>\n",
       "      <td>122.16</td>\n",
       "    </tr>\n",
       "    <tr>\n",
       "      <th>Denmark</th>\n",
       "      <td>20.000</td>\n",
       "      <td>9.36</td>\n",
       "      <td>166.00</td>\n",
       "      <td>1166.47</td>\n",
       "    </tr>\n",
       "    <tr>\n",
       "      <th>EIRE</th>\n",
       "      <td>16.600</td>\n",
       "      <td>1.90</td>\n",
       "      <td>629.10</td>\n",
       "      <td>14151.97</td>\n",
       "    </tr>\n",
       "    <tr>\n",
       "      <th>European Community</th>\n",
       "      <td>42.500</td>\n",
       "      <td>23.40</td>\n",
       "      <td>51.00</td>\n",
       "      <td>159.40</td>\n",
       "    </tr>\n",
       "    <tr>\n",
       "      <th>Finland</th>\n",
       "      <td>19.900</td>\n",
       "      <td>2.34</td>\n",
       "      <td>270.00</td>\n",
       "      <td>6290.92</td>\n",
       "    </tr>\n",
       "    <tr>\n",
       "      <th>France</th>\n",
       "      <td>16.600</td>\n",
       "      <td>0.42</td>\n",
       "      <td>475.20</td>\n",
       "      <td>9699.11</td>\n",
       "    </tr>\n",
       "    <tr>\n",
       "      <th>Germany</th>\n",
       "      <td>16.350</td>\n",
       "      <td>1.25</td>\n",
       "      <td>297.00</td>\n",
       "      <td>14267.70</td>\n",
       "    </tr>\n",
       "    <tr>\n",
       "      <th>Greece</th>\n",
       "      <td>15.600</td>\n",
       "      <td>9.90</td>\n",
       "      <td>135.84</td>\n",
       "      <td>225.24</td>\n",
       "    </tr>\n",
       "    <tr>\n",
       "      <th>Iceland</th>\n",
       "      <td>21.450</td>\n",
       "      <td>10.20</td>\n",
       "      <td>106.20</td>\n",
       "      <td>656.55</td>\n",
       "    </tr>\n",
       "    <tr>\n",
       "      <th>Israel</th>\n",
       "      <td>10.500</td>\n",
       "      <td>1.26</td>\n",
       "      <td>47.40</td>\n",
       "      <td>403.98</td>\n",
       "    </tr>\n",
       "    <tr>\n",
       "      <th>Italy</th>\n",
       "      <td>17.000</td>\n",
       "      <td>6.72</td>\n",
       "      <td>81.60</td>\n",
       "      <td>1113.02</td>\n",
       "    </tr>\n",
       "    <tr>\n",
       "      <th>Japan</th>\n",
       "      <td>100.800</td>\n",
       "      <td>10.20</td>\n",
       "      <td>187.50</td>\n",
       "      <td>1441.20</td>\n",
       "    </tr>\n",
       "    <tr>\n",
       "      <th>Lebanon</th>\n",
       "      <td>15.150</td>\n",
       "      <td>12.60</td>\n",
       "      <td>17.70</td>\n",
       "      <td>30.30</td>\n",
       "    </tr>\n",
       "    <tr>\n",
       "      <th>Lithuania</th>\n",
       "      <td>39.600</td>\n",
       "      <td>39.60</td>\n",
       "      <td>71.40</td>\n",
       "      <td>150.60</td>\n",
       "    </tr>\n",
       "    <tr>\n",
       "      <th>Malta</th>\n",
       "      <td>17.000</td>\n",
       "      <td>2.28</td>\n",
       "      <td>30.00</td>\n",
       "      <td>302.74</td>\n",
       "    </tr>\n",
       "    <tr>\n",
       "      <th>Netherlands</th>\n",
       "      <td>113.760</td>\n",
       "      <td>4.20</td>\n",
       "      <td>652.80</td>\n",
       "      <td>14559.16</td>\n",
       "    </tr>\n",
       "    <tr>\n",
       "      <th>Norway</th>\n",
       "      <td>19.250</td>\n",
       "      <td>5.80</td>\n",
       "      <td>270.00</td>\n",
       "      <td>3559.41</td>\n",
       "    </tr>\n",
       "    <tr>\n",
       "      <th>Poland</th>\n",
       "      <td>15.000</td>\n",
       "      <td>8.40</td>\n",
       "      <td>40.68</td>\n",
       "      <td>413.54</td>\n",
       "    </tr>\n",
       "    <tr>\n",
       "      <th>Portugal</th>\n",
       "      <td>16.600</td>\n",
       "      <td>0.84</td>\n",
       "      <td>53.55</td>\n",
       "      <td>1485.72</td>\n",
       "    </tr>\n",
       "    <tr>\n",
       "      <th>RSA</th>\n",
       "      <td>16.350</td>\n",
       "      <td>15.60</td>\n",
       "      <td>20.80</td>\n",
       "      <td>52.75</td>\n",
       "    </tr>\n",
       "    <tr>\n",
       "      <th>Singapore</th>\n",
       "      <td>16.600</td>\n",
       "      <td>2.34</td>\n",
       "      <td>81.60</td>\n",
       "      <td>402.82</td>\n",
       "    </tr>\n",
       "    <tr>\n",
       "      <th>Spain</th>\n",
       "      <td>14.925</td>\n",
       "      <td>0.84</td>\n",
       "      <td>1350.00</td>\n",
       "      <td>12678.92</td>\n",
       "    </tr>\n",
       "    <tr>\n",
       "      <th>Sweden</th>\n",
       "      <td>16.250</td>\n",
       "      <td>6.96</td>\n",
       "      <td>1188.00</td>\n",
       "      <td>1711.28</td>\n",
       "    </tr>\n",
       "    <tr>\n",
       "      <th>Switzerland</th>\n",
       "      <td>17.850</td>\n",
       "      <td>5.04</td>\n",
       "      <td>262.80</td>\n",
       "      <td>4261.22</td>\n",
       "    </tr>\n",
       "    <tr>\n",
       "      <th>USA</th>\n",
       "      <td>20.600</td>\n",
       "      <td>10.50</td>\n",
       "      <td>33.20</td>\n",
       "      <td>266.50</td>\n",
       "    </tr>\n",
       "    <tr>\n",
       "      <th>United Arab Emirates</th>\n",
       "      <td>65.400</td>\n",
       "      <td>65.40</td>\n",
       "      <td>65.40</td>\n",
       "      <td>65.40</td>\n",
       "    </tr>\n",
       "    <tr>\n",
       "      <th>United Kingdom</th>\n",
       "      <td>9.300</td>\n",
       "      <td>0.00</td>\n",
       "      <td>4921.50</td>\n",
       "      <td>630088.98</td>\n",
       "    </tr>\n",
       "    <tr>\n",
       "      <th>Unspecified</th>\n",
       "      <td>2.100</td>\n",
       "      <td>0.19</td>\n",
       "      <td>27.90</td>\n",
       "      <td>120.59</td>\n",
       "    </tr>\n",
       "  </tbody>\n",
       "</table>\n",
       "</div>"
      ],
      "text/plain": [
       "                     TotalPrice                           \n",
       "                         median    min      max        sum\n",
       "Country                                                   \n",
       "Australia                30.000   2.08   270.00    4082.84\n",
       "Austria                  19.500  15.00   142.80     865.95\n",
       "Bahrain                  25.500  19.80    25.50      96.30\n",
       "Belgium                  15.000   2.50    87.04    2015.36\n",
       "Brazil                   17.850  17.85    20.40      56.10\n",
       "Canada                   17.100   2.50    30.00     385.78\n",
       "Channel Islands          20.400  10.20   358.00    1720.75\n",
       "Cyprus                   18.725   1.26   196.35    1427.71\n",
       "Czech Republic           39.600  35.76    46.80     122.16\n",
       "Denmark                  20.000   9.36   166.00    1166.47\n",
       "EIRE                     16.600   1.90   629.10   14151.97\n",
       "European Community       42.500  23.40    51.00     159.40\n",
       "Finland                  19.900   2.34   270.00    6290.92\n",
       "France                   16.600   0.42   475.20    9699.11\n",
       "Germany                  16.350   1.25   297.00   14267.70\n",
       "Greece                   15.600   9.90   135.84     225.24\n",
       "Iceland                  21.450  10.20   106.20     656.55\n",
       "Israel                   10.500   1.26    47.40     403.98\n",
       "Italy                    17.000   6.72    81.60    1113.02\n",
       "Japan                   100.800  10.20   187.50    1441.20\n",
       "Lebanon                  15.150  12.60    17.70      30.30\n",
       "Lithuania                39.600  39.60    71.40     150.60\n",
       "Malta                    17.000   2.28    30.00     302.74\n",
       "Netherlands             113.760   4.20   652.80   14559.16\n",
       "Norway                   19.250   5.80   270.00    3559.41\n",
       "Poland                   15.000   8.40    40.68     413.54\n",
       "Portugal                 16.600   0.84    53.55    1485.72\n",
       "RSA                      16.350  15.60    20.80      52.75\n",
       "Singapore                16.600   2.34    81.60     402.82\n",
       "Spain                    14.925   0.84  1350.00   12678.92\n",
       "Sweden                   16.250   6.96  1188.00    1711.28\n",
       "Switzerland              17.850   5.04   262.80    4261.22\n",
       "USA                      20.600  10.50    33.20     266.50\n",
       "United Arab Emirates     65.400  65.40    65.40      65.40\n",
       "United Kingdom            9.300   0.00  4921.50  630088.98\n",
       "Unspecified               2.100   0.19    27.90     120.59"
      ]
     },
     "execution_count": 4,
     "metadata": {},
     "output_type": "execute_result"
    }
   ],
   "source": [
    "country_group = df.loc[stockcode_mask].groupby('Country')\n",
    "country_group.agg({'TotalPrice': ['median', 'min', 'max', 'sum']})"
   ]
  },
  {
   "cell_type": "markdown",
   "metadata": {},
   "source": [
    "### 打算採用"
   ]
  },
  {
   "cell_type": "markdown",
   "metadata": {},
   "source": [
    "#### 顯示每個月的銷售金額\n",
    "- 排除一些 D,M,POST..."
   ]
  },
  {
   "cell_type": "code",
   "execution_count": 6,
   "metadata": {},
   "outputs": [
    {
     "data": {
      "text/plain": [
       "730498.4400000001"
      ]
     },
     "execution_count": 6,
     "metadata": {},
     "output_type": "execute_result"
    }
   ],
   "source": [
    "# 計算送銷售金額\n",
    "df.loc[stockcode_mask]['TotalPrice'].sum(axis=0)"
   ]
  },
  {
   "cell_type": "code",
   "execution_count": 7,
   "metadata": {},
   "outputs": [
    {
     "data": {
      "text/plain": [
       "InvoiceDate\n",
       "2010-12    62116.47\n",
       "2011-01    65539.88\n",
       "2011-02    46343.55\n",
       "2011-03    57780.45\n",
       "2011-04    49653.68\n",
       "2011-05    59704.99\n",
       "2011-06    50246.36\n",
       "2011-07    58357.50\n",
       "2011-08    54801.66\n",
       "2011-09    60596.34\n",
       "2011-10    63023.90\n",
       "2011-11    83577.77\n",
       "2011-12    18755.89\n",
       "Freq: M, Name: TotalPrice, dtype: float64"
      ]
     },
     "execution_count": 7,
     "metadata": {},
     "output_type": "execute_result"
    }
   ],
   "source": [
    "# 顯示每個月的銷售金額  (排除一些 D,M,POST...)\n",
    "df.loc[stockcode_mask].groupby(df.InvoiceDate.dt.to_period(\"M\"))['TotalPrice'].sum()\n",
    "\n",
    "# TODO: 如果在 iOS上不知道如何處理，就在這裡輸出一個 CSV 檔"
   ]
  },
  {
   "cell_type": "markdown",
   "metadata": {},
   "source": [
    "#### StockCode 商品銷售數量 Top 10"
   ]
  },
  {
   "cell_type": "code",
   "execution_count": 8,
   "metadata": {},
   "outputs": [
    {
     "data": {
      "text/plain": [
       "StockCode  Description                       \n",
       "85099B     JUMBO BAG RED RETROSPOT               46181\n",
       "85123A     WHITE HANGING HEART T-LIGHT HOLDER    36725\n",
       "85099F     JUMBO BAG STRAWBERRY                  16807\n",
       "85099C     JUMBO  BAG BAROQUE BLACK WHITE        12793\n",
       "84970S     HANGING HEART ZINC T-LIGHT HOLDER      8470\n",
       "16161P     WRAP ENGLISH ROSE                      7226\n",
       "75049L     LARGE CIRCULAR MIRROR MOBILE           6821\n",
       "82494L     WOODEN FRAME ANTIQUE WHITE             6282\n",
       "16156S     WRAP PINK FAIRY CAKES                  5800\n",
       "84970L     SINGLE HEART ZINC T-LIGHT HOLDER       5700\n",
       "Name: Quantity, dtype: int64"
      ]
     },
     "execution_count": 8,
     "metadata": {},
     "output_type": "execute_result"
    }
   ],
   "source": [
    "# 取出 Stock 的銷售數量表\n",
    "stock_sold_qty = df.groupby(['StockCode', 'Description'])['Quantity'].sum()     # 加總數量 方法1\n",
    "# stock_sold_qty = df.groupby(['StockCode','Description']).agg({'Quantity':sum})  # 加總數量 方法2\n",
    "# stock_sold_qty.to_csv('商品銷售數量.csv') # 輸出檔案檢查一下\n",
    "\n",
    "# 銷售數量 Top 10\n",
    "stock_sold_qty.nlargest(10)"
   ]
  },
  {
   "cell_type": "markdown",
   "metadata": {},
   "source": [
    "### StockCode 商品銷售金額 Top 10"
   ]
  },
  {
   "cell_type": "code",
   "execution_count": 9,
   "metadata": {},
   "outputs": [
    {
     "data": {
      "text/plain": [
       "StockCode  Description                       \n",
       "85123A     WHITE HANGING HEART T-LIGHT HOLDER    100448.15\n",
       "85099B     JUMBO BAG RED RETROSPOT                85220.78\n",
       "85099F     JUMBO BAG STRAWBERRY                   30644.20\n",
       "85099C     JUMBO  BAG BAROQUE BLACK WHITE         23675.04\n",
       "15056N     EDWARDIAN PARASOL NATURAL              20696.71\n",
       "82494L     WOODEN FRAME ANTIQUE WHITE             17625.07\n",
       "84997D     CHILDRENS CUTLERY POLKADOT PINK        13796.60\n",
       "84029E     RED WOOLLY HOTTIE WHITE HEART.         13430.51\n",
       "84078A     SET/4 WHITE RETRO STORAGE CUBES        13007.15\n",
       "47590B     PINK HAPPY BIRTHDAY BUNTING            11688.15\n",
       "Name: TotalPrice, dtype: float64"
      ]
     },
     "execution_count": 9,
     "metadata": {},
     "output_type": "execute_result"
    }
   ],
   "source": [
    "# 銷售金額 Top 10  (排除一些 D,M,POST...)\n",
    "df.loc[stockcode_mask].groupby(['StockCode', 'Description'])['TotalPrice'].sum().nlargest(10)"
   ]
  },
  {
   "cell_type": "markdown",
   "metadata": {},
   "source": [
    "#### Customer 顧客花錢金額 Top 10"
   ]
  },
  {
   "cell_type": "code",
   "execution_count": 15,
   "metadata": {},
   "outputs": [
    {
     "data": {
      "text/plain": [
       "CustomerID  Country       \n",
       "15769       United Kingdom    21681.62\n",
       "15749       United Kingdom    15598.50\n",
       "14646       Netherlands       14031.10\n",
       "17450       United Kingdom    13703.76\n",
       "13694       United Kingdom    12904.28\n",
       "13777       United Kingdom    10794.97\n",
       "14911       EIRE              10463.62\n",
       "13798       United Kingdom    10167.56\n",
       "17511       United Kingdom    10109.99\n",
       "15838       United Kingdom     9774.30\n",
       "Name: TotalPrice, dtype: float64"
      ]
     },
     "execution_count": 15,
     "metadata": {},
     "output_type": "execute_result"
    }
   ],
   "source": [
    "# Customer 銷售金額 Top 10, 正常來說 Customer的Country 不會亂變 (排除一些 D,M,POST...)\n",
    "# df.loc[stockcode_mask].groupby(['CustomerID', 'Country'])['TotalPrice'].sum().nlargest(10)\n",
    "\n",
    "# Customer 銷售金額 Top 10, 正常來說 Customer的Country 不會亂變 (沒排除)\n",
    "df.groupby(['CustomerID', 'Country'])['TotalPrice'].sum().nlargest(10)"
   ]
  },
  {
   "cell_type": "markdown",
   "metadata": {},
   "source": [
    "#### Country 哪個國家最會花錢 Top 10"
   ]
  },
  {
   "cell_type": "code",
   "execution_count": 14,
   "metadata": {},
   "outputs": [
    {
     "data": {
      "text/plain": [
       "Country\n",
       "United Kingdom    630088.98\n",
       "Netherlands        14559.16\n",
       "Germany            14267.70\n",
       "EIRE               14151.97\n",
       "Spain              12678.92\n",
       "France              9699.11\n",
       "Finland             6290.92\n",
       "Switzerland         4261.22\n",
       "Australia           4082.84\n",
       "Norway              3559.41\n",
       "Name: TotalPrice, dtype: float64"
      ]
     },
     "execution_count": 14,
     "metadata": {},
     "output_type": "execute_result"
    }
   ],
   "source": [
    "# 區分 Country 的銷售金額 Top 10 (排除一些 D,M,POST...)\n",
    "# df.loc[stockcode_mask].groupby('Country')['TotalPrice'].sum().nlargest(10)\n",
    "\n",
    "# 區分 Country 的銷售金額 Top 10 (沒排除)\n",
    "df.groupby('Country')['TotalPrice'].sum().nlargest(10)"
   ]
  },
  {
   "cell_type": "markdown",
   "metadata": {},
   "source": [
    "### 以國別之分，列出每筆運費 (後來去除掉運費資料，所以看不到資料)"
   ]
  },
  {
   "cell_type": "code",
   "execution_count": 12,
   "metadata": {},
   "outputs": [
    {
     "data": {
      "text/html": [
       "<div>\n",
       "<style scoped>\n",
       "    .dataframe tbody tr th:only-of-type {\n",
       "        vertical-align: middle;\n",
       "    }\n",
       "\n",
       "    .dataframe tbody tr th {\n",
       "        vertical-align: top;\n",
       "    }\n",
       "\n",
       "    .dataframe thead tr th {\n",
       "        text-align: left;\n",
       "    }\n",
       "\n",
       "    .dataframe thead tr:last-of-type th {\n",
       "        text-align: right;\n",
       "    }\n",
       "</style>\n",
       "<table border=\"1\" class=\"dataframe\">\n",
       "  <thead>\n",
       "    <tr>\n",
       "      <th></th>\n",
       "      <th colspan=\"3\" halign=\"left\">UnitPrice</th>\n",
       "    </tr>\n",
       "    <tr>\n",
       "      <th></th>\n",
       "      <th>median</th>\n",
       "      <th>min</th>\n",
       "      <th>max</th>\n",
       "    </tr>\n",
       "    <tr>\n",
       "      <th>Country</th>\n",
       "      <th></th>\n",
       "      <th></th>\n",
       "      <th></th>\n",
       "    </tr>\n",
       "  </thead>\n",
       "  <tbody>\n",
       "  </tbody>\n",
       "</table>\n",
       "</div>"
      ],
      "text/plain": [
       "Empty DataFrame\n",
       "Columns: [(UnitPrice, median), (UnitPrice, min), (UnitPrice, max)]\n",
       "Index: []"
      ]
     },
     "execution_count": 12,
     "metadata": {},
     "output_type": "execute_result"
    }
   ],
   "source": [
    "# 區分國家 列出運費的 中位數、最小值、最大值\n",
    "stock_group = df.loc[df['StockCode'] == 'POST'].groupby('Country')\n",
    "stock_group.agg({'UnitPrice': ['median', 'min', 'max']})"
   ]
  },
  {
   "cell_type": "markdown",
   "metadata": {},
   "source": [
    "### 一些嘗試過的程式碼"
   ]
  },
  {
   "cell_type": "code",
   "execution_count": null,
   "metadata": {},
   "outputs": [],
   "source": [
    "# df.groupby(pd.Grouper(freq='M'))\n",
    "# df.groupby(df.InvoiceDate.dt.month)['Quantity'].sum() # 這個方法會把 2010-12及2011-12 月的混在一起\n",
    "\n",
    "# 統計 Country 欄位的數值，各出現多少次\n",
    "# country_count = df.value_counts('Country')\n",
    "# print(country_count)\n",
    "# df.loc[df['StockCode'] == 'POST']\n",
    "# ----< 在試著列出 商品不同價格 >----\n",
    "# stock_group = df.groupby(['StockCode', 'Description', 'UnitPrice'])\n",
    "# stock_group.size()\n",
    "# stock_group.groups\n",
    "# -------------------------------\n",
    "# stock_group.get_group(\"POST\")\n",
    "# 可知道 同個 Stock 是否有不同 Price\n",
    "# print(stock_group['UnitPrice'].aggregate(['min', 'max']))\n",
    "\n",
    "# list(stock_group)\n",
    "\n",
    "# df.loc[df['Quantity'] == 0]  # 只是檢查有沒有數量為0的 銷售/退貨 項目\n",
    "# df.loc[df['Quantity'] <= 0]  ＃ 退貨\n",
    "# df.loc[df['UnitPrice'] <= 0]\n",
    "\n",
    "# df.loc[df['CustomerID'] == 'nan']                 # 轉換後，空值會變成 nan\n",
    "# df = df[df.line_race != 0]"
   ]
  }
 ],
 "metadata": {
  "kernelspec": {
   "display_name": "Python 3.10.5 ('my_nlp')",
   "language": "python",
   "name": "python3"
  },
  "language_info": {
   "codemirror_mode": {
    "name": "ipython",
    "version": 3
   },
   "file_extension": ".py",
   "mimetype": "text/x-python",
   "name": "python",
   "nbconvert_exporter": "python",
   "pygments_lexer": "ipython3",
   "version": "3.10.5"
  },
  "orig_nbformat": 4,
  "vscode": {
   "interpreter": {
    "hash": "d994cf79d46f09850c0ab3ba2bb53b84b3de92ab4ebaeb1f5eb650d2bf8d6161"
   }
  }
 },
 "nbformat": 4,
 "nbformat_minor": 2
}
